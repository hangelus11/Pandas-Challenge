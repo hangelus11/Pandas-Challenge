{
 "cells": [
  {
   "cell_type": "markdown",
   "metadata": {},
   "source": [
    "### Note\n",
    "* Instructions have been included for each segment. You do not have to follow them exactly, but they are included to help you think through the steps."
   ]
  },
  {
   "cell_type": "code",
   "execution_count": 3,
   "metadata": {},
   "outputs": [
    {
     "data": {
      "text/html": [
       "<div>\n",
       "<style scoped>\n",
       "    .dataframe tbody tr th:only-of-type {\n",
       "        vertical-align: middle;\n",
       "    }\n",
       "\n",
       "    .dataframe tbody tr th {\n",
       "        vertical-align: top;\n",
       "    }\n",
       "\n",
       "    .dataframe thead th {\n",
       "        text-align: right;\n",
       "    }\n",
       "</style>\n",
       "<table border=\"1\" class=\"dataframe\">\n",
       "  <thead>\n",
       "    <tr style=\"text-align: right;\">\n",
       "      <th></th>\n",
       "      <th>Purchase ID</th>\n",
       "      <th>SN</th>\n",
       "      <th>Age</th>\n",
       "      <th>Gender</th>\n",
       "      <th>Item ID</th>\n",
       "      <th>Item Name</th>\n",
       "      <th>Price</th>\n",
       "    </tr>\n",
       "  </thead>\n",
       "  <tbody>\n",
       "    <tr>\n",
       "      <td>0</td>\n",
       "      <td>0</td>\n",
       "      <td>Lisim78</td>\n",
       "      <td>20</td>\n",
       "      <td>Male</td>\n",
       "      <td>108</td>\n",
       "      <td>Extraction, Quickblade Of Trembling Hands</td>\n",
       "      <td>3.53</td>\n",
       "    </tr>\n",
       "    <tr>\n",
       "      <td>1</td>\n",
       "      <td>1</td>\n",
       "      <td>Lisovynya38</td>\n",
       "      <td>40</td>\n",
       "      <td>Male</td>\n",
       "      <td>143</td>\n",
       "      <td>Frenzied Scimitar</td>\n",
       "      <td>1.56</td>\n",
       "    </tr>\n",
       "    <tr>\n",
       "      <td>2</td>\n",
       "      <td>2</td>\n",
       "      <td>Ithergue48</td>\n",
       "      <td>24</td>\n",
       "      <td>Male</td>\n",
       "      <td>92</td>\n",
       "      <td>Final Critic</td>\n",
       "      <td>4.88</td>\n",
       "    </tr>\n",
       "    <tr>\n",
       "      <td>3</td>\n",
       "      <td>3</td>\n",
       "      <td>Chamassasya86</td>\n",
       "      <td>24</td>\n",
       "      <td>Male</td>\n",
       "      <td>100</td>\n",
       "      <td>Blindscythe</td>\n",
       "      <td>3.27</td>\n",
       "    </tr>\n",
       "    <tr>\n",
       "      <td>4</td>\n",
       "      <td>4</td>\n",
       "      <td>Iskosia90</td>\n",
       "      <td>23</td>\n",
       "      <td>Male</td>\n",
       "      <td>131</td>\n",
       "      <td>Fury</td>\n",
       "      <td>1.44</td>\n",
       "    </tr>\n",
       "    <tr>\n",
       "      <td>5</td>\n",
       "      <td>5</td>\n",
       "      <td>Yalae81</td>\n",
       "      <td>22</td>\n",
       "      <td>Male</td>\n",
       "      <td>81</td>\n",
       "      <td>Dreamkiss</td>\n",
       "      <td>3.61</td>\n",
       "    </tr>\n",
       "    <tr>\n",
       "      <td>6</td>\n",
       "      <td>6</td>\n",
       "      <td>Itheria73</td>\n",
       "      <td>36</td>\n",
       "      <td>Male</td>\n",
       "      <td>169</td>\n",
       "      <td>Interrogator, Blood Blade of the Queen</td>\n",
       "      <td>2.18</td>\n",
       "    </tr>\n",
       "    <tr>\n",
       "      <td>7</td>\n",
       "      <td>7</td>\n",
       "      <td>Iskjaskst81</td>\n",
       "      <td>20</td>\n",
       "      <td>Male</td>\n",
       "      <td>162</td>\n",
       "      <td>Abyssal Shard</td>\n",
       "      <td>2.67</td>\n",
       "    </tr>\n",
       "    <tr>\n",
       "      <td>8</td>\n",
       "      <td>8</td>\n",
       "      <td>Undjask33</td>\n",
       "      <td>22</td>\n",
       "      <td>Male</td>\n",
       "      <td>21</td>\n",
       "      <td>Souleater</td>\n",
       "      <td>1.10</td>\n",
       "    </tr>\n",
       "    <tr>\n",
       "      <td>9</td>\n",
       "      <td>9</td>\n",
       "      <td>Chanosian48</td>\n",
       "      <td>35</td>\n",
       "      <td>Other / Non-Disclosed</td>\n",
       "      <td>136</td>\n",
       "      <td>Ghastly Adamantite Protector</td>\n",
       "      <td>3.58</td>\n",
       "    </tr>\n",
       "  </tbody>\n",
       "</table>\n",
       "</div>"
      ],
      "text/plain": [
       "   Purchase ID             SN  Age                 Gender  Item ID  \\\n",
       "0            0        Lisim78   20                   Male      108   \n",
       "1            1    Lisovynya38   40                   Male      143   \n",
       "2            2     Ithergue48   24                   Male       92   \n",
       "3            3  Chamassasya86   24                   Male      100   \n",
       "4            4      Iskosia90   23                   Male      131   \n",
       "5            5        Yalae81   22                   Male       81   \n",
       "6            6      Itheria73   36                   Male      169   \n",
       "7            7    Iskjaskst81   20                   Male      162   \n",
       "8            8      Undjask33   22                   Male       21   \n",
       "9            9    Chanosian48   35  Other / Non-Disclosed      136   \n",
       "\n",
       "                                   Item Name  Price  \n",
       "0  Extraction, Quickblade Of Trembling Hands   3.53  \n",
       "1                          Frenzied Scimitar   1.56  \n",
       "2                               Final Critic   4.88  \n",
       "3                                Blindscythe   3.27  \n",
       "4                                       Fury   1.44  \n",
       "5                                  Dreamkiss   3.61  \n",
       "6     Interrogator, Blood Blade of the Queen   2.18  \n",
       "7                              Abyssal Shard   2.67  \n",
       "8                                  Souleater   1.10  \n",
       "9               Ghastly Adamantite Protector   3.58  "
      ]
     },
     "execution_count": 3,
     "metadata": {},
     "output_type": "execute_result"
    }
   ],
   "source": [
    "# Dependencies and Setup\n",
    "import pandas as pd\n",
    "\n",
    "# File to Load (Remember to Change These)\n",
    "file_to_load = \"purchase_data.csv\"\n",
    "\n",
    "# Read Purchasing File and store into Pandas data frame\n",
    "purchase_data = pd.read_csv(file_to_load)\n",
    "\n",
    "# Display data\n",
    "purchase_data.head(10)"
   ]
  },
  {
   "cell_type": "markdown",
   "metadata": {},
   "source": [
    "## Player Count"
   ]
  },
  {
   "cell_type": "markdown",
   "metadata": {},
   "source": [
    "* Display the total number of players"
   ]
  },
  {
   "cell_type": "code",
   "execution_count": 4,
   "metadata": {},
   "outputs": [
    {
     "name": "stdout",
     "output_type": "stream",
     "text": [
      "Total Players : 576\n"
     ]
    }
   ],
   "source": [
    "# Total count of players\n",
    "unique_players = purchase_data['SN'].unique()\n",
    "count_unique_players = len(unique_players)\n",
    "\n",
    "print(\"Total Players : \" + str(count_unique_players))"
   ]
  },
  {
   "cell_type": "markdown",
   "metadata": {},
   "source": [
    "## Purchasing Analysis (Total)"
   ]
  },
  {
   "cell_type": "markdown",
   "metadata": {},
   "source": [
    "* Run basic calculations to obtain number of unique items, average price, etc.\n",
    "\n",
    "\n",
    "* Create a summary data frame to hold the results\n",
    "\n",
    "\n",
    "* Optional: give the displayed data cleaner formatting\n",
    "\n",
    "\n",
    "* Display the summary data frame\n"
   ]
  },
  {
   "cell_type": "code",
   "execution_count": 9,
   "metadata": {
    "scrolled": true
   },
   "outputs": [
    {
     "name": "stdout",
     "output_type": "stream",
     "text": [
      "Number of Unique Items: 183\n",
      "The Average Purchase Price: $3.05\n",
      "Total number of purchases: 780\n",
      "Total Revenue: $2379.77\n"
     ]
    },
    {
     "data": {
      "text/html": [
       "<div>\n",
       "<style scoped>\n",
       "    .dataframe tbody tr th:only-of-type {\n",
       "        vertical-align: middle;\n",
       "    }\n",
       "\n",
       "    .dataframe tbody tr th {\n",
       "        vertical-align: top;\n",
       "    }\n",
       "\n",
       "    .dataframe thead th {\n",
       "        text-align: right;\n",
       "    }\n",
       "</style>\n",
       "<table border=\"1\" class=\"dataframe\">\n",
       "  <thead>\n",
       "    <tr style=\"text-align: right;\">\n",
       "      <th></th>\n",
       "      <th>Number of Unique Items</th>\n",
       "      <th>Average Purchase Price</th>\n",
       "      <th>Total Number of Purchases</th>\n",
       "      <th>Total Revenue</th>\n",
       "    </tr>\n",
       "  </thead>\n",
       "  <tbody>\n",
       "    <tr>\n",
       "      <td>0</td>\n",
       "      <td>183</td>\n",
       "      <td>$3.05</td>\n",
       "      <td>780</td>\n",
       "      <td>$2379.77</td>\n",
       "    </tr>\n",
       "  </tbody>\n",
       "</table>\n",
       "</div>"
      ],
      "text/plain": [
       "   Number of Unique Items Average Purchase Price  Total Number of Purchases  \\\n",
       "0                     183                  $3.05                        780   \n",
       "\n",
       "  Total Revenue  \n",
       "0      $2379.77  "
      ]
     },
     "execution_count": 9,
     "metadata": {},
     "output_type": "execute_result"
    }
   ],
   "source": [
    "# count of unique Items\n",
    "unique_itemID = purchase_data[\"Item ID\"].unique()\n",
    "count_unique_items = len(unique_itemID)\n",
    "\n",
    "print('Number of Unique Items: ' + str(count_unique_items))\n",
    "\n",
    "# Calculate average purchase price\n",
    "average_price = round(purchase_data['Price'].mean(),2)\n",
    "\n",
    "print('The Average Purchase Price: $' + str(average_price))\n",
    "\n",
    "# total number of purchases\n",
    "count_of_purchases = purchase_data[\"Purchase ID\"].count()\n",
    "\n",
    "print('Total number of purchases: ' + str(count_of_purchases))\n",
    "\n",
    "# Total Revenue of all purchases\n",
    "sum_of_purchases = purchase_data['Price'].sum()\n",
    "\n",
    "print('Total Revenue: $'+str(sum_of_purchases))\n",
    "\n",
    "# Summary Table of the Purchasing Analysis\n",
    "summary_table1 = pd.DataFrame(\n",
    "    {\"Number of Unique Items\":[count_unique_items],\n",
    "        \"Average Purchase Price\": ['$'+str(average_price)],\n",
    "        \"Total Number of Purchases\":[count_of_purchases],\n",
    "         \"Total Revenue\": ['$'+str(sum_of_purchases)]\n",
    "    }\n",
    ")\n",
    "summary_table1"
   ]
  },
  {
   "cell_type": "markdown",
   "metadata": {},
   "source": [
    "## Gender Demographics"
   ]
  },
  {
   "cell_type": "markdown",
   "metadata": {},
   "source": [
    "* Percentage and Count of Male Players\n",
    "\n",
    "\n",
    "* Percentage and Count of Female Players\n",
    "\n",
    "\n",
    "* Percentage and Count of Other / Non-Disclosed\n",
    "\n",
    "\n"
   ]
  },
  {
   "cell_type": "code",
   "execution_count": 10,
   "metadata": {},
   "outputs": [
    {
     "data": {
      "text/plain": [
       "Gender\n",
       "Female                    81\n",
       "Male                     484\n",
       "Other / Non-Disclosed     11\n",
       "Name: SN, dtype: int64"
      ]
     },
     "execution_count": 10,
     "metadata": {},
     "output_type": "execute_result"
    }
   ],
   "source": [
    "# counts of all genders\n",
    "gender_counts = purchase_data.groupby('Gender').nunique()['SN']\n",
    "\n",
    "gender_counts"
   ]
  },
  {
   "cell_type": "code",
   "execution_count": 11,
   "metadata": {},
   "outputs": [
    {
     "data": {
      "text/plain": [
       "Gender\n",
       "Female                   14.06\n",
       "Male                     84.03\n",
       "Other / Non-Disclosed     1.91\n",
       "Name: SN, dtype: float64"
      ]
     },
     "execution_count": 11,
     "metadata": {},
     "output_type": "execute_result"
    }
   ],
   "source": [
    "# percentages of all genders\n",
    "gender_percentages = round((gender_counts/count_unique_players*100),2)\n",
    "gender_percentages"
   ]
  },
  {
   "cell_type": "code",
   "execution_count": 12,
   "metadata": {},
   "outputs": [
    {
     "data": {
      "text/html": [
       "<style  type=\"text/css\" >\n",
       "</style><table id=\"T_18661e90_56bf_11ea_b5bf_d8f2ca49febb\" ><thead>    <tr>        <th class=\"blank level0\" ></th>        <th class=\"col_heading level0 col0\" >Total Count</th>        <th class=\"col_heading level0 col1\" >Percentage of Players</th>    </tr>    <tr>        <th class=\"index_name level0\" >Gender</th>        <th class=\"blank\" ></th>        <th class=\"blank\" ></th>    </tr></thead><tbody>\n",
       "                <tr>\n",
       "                        <th id=\"T_18661e90_56bf_11ea_b5bf_d8f2ca49febblevel0_row0\" class=\"row_heading level0 row0\" >Female</th>\n",
       "                        <td id=\"T_18661e90_56bf_11ea_b5bf_d8f2ca49febbrow0_col0\" class=\"data row0 col0\" >81</td>\n",
       "                        <td id=\"T_18661e90_56bf_11ea_b5bf_d8f2ca49febbrow0_col1\" class=\"data row0 col1\" >14.06%</td>\n",
       "            </tr>\n",
       "            <tr>\n",
       "                        <th id=\"T_18661e90_56bf_11ea_b5bf_d8f2ca49febblevel0_row1\" class=\"row_heading level0 row1\" >Male</th>\n",
       "                        <td id=\"T_18661e90_56bf_11ea_b5bf_d8f2ca49febbrow1_col0\" class=\"data row1 col0\" >484</td>\n",
       "                        <td id=\"T_18661e90_56bf_11ea_b5bf_d8f2ca49febbrow1_col1\" class=\"data row1 col1\" >84.03%</td>\n",
       "            </tr>\n",
       "            <tr>\n",
       "                        <th id=\"T_18661e90_56bf_11ea_b5bf_d8f2ca49febblevel0_row2\" class=\"row_heading level0 row2\" >Other / Non-Disclosed</th>\n",
       "                        <td id=\"T_18661e90_56bf_11ea_b5bf_d8f2ca49febbrow2_col0\" class=\"data row2 col0\" >11</td>\n",
       "                        <td id=\"T_18661e90_56bf_11ea_b5bf_d8f2ca49febbrow2_col1\" class=\"data row2 col1\" >1.91%</td>\n",
       "            </tr>\n",
       "    </tbody></table>"
      ],
      "text/plain": [
       "<pandas.io.formats.style.Styler at 0x1e0b43c2e88>"
      ]
     },
     "execution_count": 12,
     "metadata": {},
     "output_type": "execute_result"
    }
   ],
   "source": [
    "# Summary Table of Gender Demographics\n",
    "# Clearner format( added percentage sign)\n",
    "summary_table2 = pd.DataFrame(\n",
    "    {'Total Count': gender_counts,\n",
    "     'Percentage of Players':gender_percentages\n",
    "    }\n",
    ")\n",
    "\n",
    "clean_formated2 = summary_table2.style.format({'Percentage of Players': '{:.2f}%'})\n",
    "\n",
    "clean_formated2"
   ]
  },
  {
   "cell_type": "markdown",
   "metadata": {},
   "source": [
    "\n",
    "## Purchasing Analysis (Gender)"
   ]
  },
  {
   "cell_type": "markdown",
   "metadata": {},
   "source": [
    "* Run basic calculations to obtain purchase count, avg. purchase price, avg. purchase total per person etc. by gender\n",
    "\n",
    "\n",
    "\n",
    "\n",
    "* Create a summary data frame to hold the results\n",
    "\n",
    "\n",
    "* Optional: give the displayed data cleaner formatting\n",
    "\n",
    "\n",
    "* Display the summary data frame"
   ]
  },
  {
   "cell_type": "code",
   "execution_count": 14,
   "metadata": {},
   "outputs": [
    {
     "data": {
      "text/plain": [
       "Gender\n",
       "Female                   113\n",
       "Male                     652\n",
       "Other / Non-Disclosed     15\n",
       "Name: Purchase ID, dtype: int64"
      ]
     },
     "execution_count": 14,
     "metadata": {},
     "output_type": "execute_result"
    }
   ],
   "source": [
    "# Purchase Count by Gender\n",
    "gender_purchase_count = purchase_data.groupby(\"Gender\").count()['Purchase ID']\n",
    "\n",
    "gender_purchase_count"
   ]
  },
  {
   "cell_type": "code",
   "execution_count": 15,
   "metadata": {},
   "outputs": [
    {
     "data": {
      "text/plain": [
       "Gender\n",
       "Female                   3.20\n",
       "Male                     3.02\n",
       "Other / Non-Disclosed    3.35\n",
       "Name: Price, dtype: float64"
      ]
     },
     "execution_count": 15,
     "metadata": {},
     "output_type": "execute_result"
    }
   ],
   "source": [
    "# Average Purchase Price by Gender\n",
    "avg_pp_gender = round(purchase_data.groupby('Gender').mean()['Price'],2)\n",
    "avg_pp_gender"
   ]
  },
  {
   "cell_type": "code",
   "execution_count": 16,
   "metadata": {},
   "outputs": [
    {
     "data": {
      "text/plain": [
       "Gender\n",
       "Female                    361.94\n",
       "Male                     1967.64\n",
       "Other / Non-Disclosed      50.19\n",
       "Name: Price, dtype: float64"
      ]
     },
     "execution_count": 16,
     "metadata": {},
     "output_type": "execute_result"
    }
   ],
   "source": [
    "# Total Purchase value by Gender\n",
    "sum_purchase = purchase_data.groupby('Gender').sum()['Price']\n",
    "sum_purchase"
   ]
  },
  {
   "cell_type": "code",
   "execution_count": 17,
   "metadata": {},
   "outputs": [
    {
     "data": {
      "text/plain": [
       "Gender\n",
       "Female                   4.47\n",
       "Male                     4.07\n",
       "Other / Non-Disclosed    4.56\n",
       "dtype: float64"
      ]
     },
     "execution_count": 17,
     "metadata": {},
     "output_type": "execute_result"
    }
   ],
   "source": [
    "# Average Total Purchase per person by Gender\n",
    "avg_total_pp = round((sum_purchase/gender_counts),2)\n",
    "avg_total_pp"
   ]
  },
  {
   "cell_type": "code",
   "execution_count": 18,
   "metadata": {},
   "outputs": [
    {
     "data": {
      "text/html": [
       "<style  type=\"text/css\" >\n",
       "</style><table id=\"T_ec6dc5b4_56bf_11ea_a27c_d8f2ca49febb\" ><thead>    <tr>        <th class=\"blank level0\" ></th>        <th class=\"col_heading level0 col0\" >Purchase Count</th>        <th class=\"col_heading level0 col1\" >Average Purchase Price</th>        <th class=\"col_heading level0 col2\" >Total Purchase Value</th>        <th class=\"col_heading level0 col3\" >Avg Total Purchase Per Person</th>    </tr>    <tr>        <th class=\"index_name level0\" >Gender</th>        <th class=\"blank\" ></th>        <th class=\"blank\" ></th>        <th class=\"blank\" ></th>        <th class=\"blank\" ></th>    </tr></thead><tbody>\n",
       "                <tr>\n",
       "                        <th id=\"T_ec6dc5b4_56bf_11ea_a27c_d8f2ca49febblevel0_row0\" class=\"row_heading level0 row0\" >Female</th>\n",
       "                        <td id=\"T_ec6dc5b4_56bf_11ea_a27c_d8f2ca49febbrow0_col0\" class=\"data row0 col0\" >113</td>\n",
       "                        <td id=\"T_ec6dc5b4_56bf_11ea_a27c_d8f2ca49febbrow0_col1\" class=\"data row0 col1\" >$3.20</td>\n",
       "                        <td id=\"T_ec6dc5b4_56bf_11ea_a27c_d8f2ca49febbrow0_col2\" class=\"data row0 col2\" >$361.94</td>\n",
       "                        <td id=\"T_ec6dc5b4_56bf_11ea_a27c_d8f2ca49febbrow0_col3\" class=\"data row0 col3\" >$4.47</td>\n",
       "            </tr>\n",
       "            <tr>\n",
       "                        <th id=\"T_ec6dc5b4_56bf_11ea_a27c_d8f2ca49febblevel0_row1\" class=\"row_heading level0 row1\" >Male</th>\n",
       "                        <td id=\"T_ec6dc5b4_56bf_11ea_a27c_d8f2ca49febbrow1_col0\" class=\"data row1 col0\" >652</td>\n",
       "                        <td id=\"T_ec6dc5b4_56bf_11ea_a27c_d8f2ca49febbrow1_col1\" class=\"data row1 col1\" >$3.02</td>\n",
       "                        <td id=\"T_ec6dc5b4_56bf_11ea_a27c_d8f2ca49febbrow1_col2\" class=\"data row1 col2\" >$1967.64</td>\n",
       "                        <td id=\"T_ec6dc5b4_56bf_11ea_a27c_d8f2ca49febbrow1_col3\" class=\"data row1 col3\" >$4.07</td>\n",
       "            </tr>\n",
       "            <tr>\n",
       "                        <th id=\"T_ec6dc5b4_56bf_11ea_a27c_d8f2ca49febblevel0_row2\" class=\"row_heading level0 row2\" >Other / Non-Disclosed</th>\n",
       "                        <td id=\"T_ec6dc5b4_56bf_11ea_a27c_d8f2ca49febbrow2_col0\" class=\"data row2 col0\" >15</td>\n",
       "                        <td id=\"T_ec6dc5b4_56bf_11ea_a27c_d8f2ca49febbrow2_col1\" class=\"data row2 col1\" >$3.35</td>\n",
       "                        <td id=\"T_ec6dc5b4_56bf_11ea_a27c_d8f2ca49febbrow2_col2\" class=\"data row2 col2\" >$50.19</td>\n",
       "                        <td id=\"T_ec6dc5b4_56bf_11ea_a27c_d8f2ca49febbrow2_col3\" class=\"data row2 col3\" >$4.56</td>\n",
       "            </tr>\n",
       "    </tbody></table>"
      ],
      "text/plain": [
       "<pandas.io.formats.style.Styler at 0x1e0b4ca7f88>"
      ]
     },
     "execution_count": 18,
     "metadata": {},
     "output_type": "execute_result"
    }
   ],
   "source": [
    "# Summary Table of Purchasing Analysis by Gender\n",
    "# Cleaner formatted ( added $ sign on  columns 'Avg Purchase Price, Total Purchase Value and AVG total Purchase per Person')\n",
    "summary_table3 = pd.DataFrame(\n",
    "    {'Purchase Count': gender_purchase_count,\n",
    "     'Average Purchase Price':avg_pp_gender,\n",
    "     'Total Purchase Value': sum_purchase,\n",
    "     'Avg Total Purchase Per Person':avg_total_pp\n",
    "    }\n",
    ")\n",
    "\n",
    "clean_formated3 = summary_table3.style.format({'Average Purchase Price':'${:.2f}', 'Total Purchase Value':'${:.2f}',\n",
    "                                             'Avg Total Purchase Per Person':'${:.2f}'})\n",
    "\n",
    "clean_formated3"
   ]
  },
  {
   "cell_type": "markdown",
   "metadata": {},
   "source": [
    "## Age Demographics"
   ]
  },
  {
   "cell_type": "markdown",
   "metadata": {},
   "source": [
    "* Establish bins for ages\n",
    "\n",
    "\n",
    "* Categorize the existing players using the age bins. Hint: use pd.cut()\n",
    "\n",
    "\n",
    "* Calculate the numbers and percentages by age group\n",
    "\n",
    "\n",
    "* Create a summary data frame to hold the results\n",
    "\n",
    "\n",
    "* Optional: round the percentage column to two decimal points\n",
    "\n",
    "\n",
    "* Display Age Demographics Table\n"
   ]
  },
  {
   "cell_type": "code",
   "execution_count": 20,
   "metadata": {},
   "outputs": [],
   "source": [
    "# Bins for age demographics\n",
    "# Group age groups\n",
    "bins = [0,9,14,19,24,29,34,39,100]\n",
    "\n",
    "age_labels = ['>10','10-14','15-19','20-24','25-29','30-34','35-39','40+']\n",
    "\n",
    "purchase_data['Age Groups'] = pd.cut(purchase_data[\"Age\"], bins, labels = age_labels)"
   ]
  },
  {
   "cell_type": "code",
   "execution_count": 21,
   "metadata": {},
   "outputs": [
    {
     "data": {
      "text/plain": [
       "Age Groups\n",
       ">10       17\n",
       "10-14     22\n",
       "15-19    107\n",
       "20-24    258\n",
       "25-29     77\n",
       "30-34     52\n",
       "35-39     31\n",
       "40+       12\n",
       "Name: SN, dtype: int64"
      ]
     },
     "execution_count": 21,
     "metadata": {},
     "output_type": "execute_result"
    }
   ],
   "source": [
    "# Group by age group\n",
    "# count age groups\n",
    "# display age groups\n",
    "age_groups = purchase_data.groupby('Age Groups')\n",
    "\n",
    "count_age_group = age_groups['SN'].nunique()\n",
    "\n",
    "count_age_group"
   ]
  },
  {
   "cell_type": "code",
   "execution_count": 22,
   "metadata": {},
   "outputs": [
    {
     "data": {
      "text/plain": [
       "Age Groups\n",
       ">10       2.95\n",
       "10-14     3.82\n",
       "15-19    18.58\n",
       "20-24    44.79\n",
       "25-29    13.37\n",
       "30-34     9.03\n",
       "35-39     5.38\n",
       "40+       2.08\n",
       "Name: SN, dtype: float64"
      ]
     },
     "execution_count": 22,
     "metadata": {},
     "output_type": "execute_result"
    }
   ],
   "source": [
    "# percentage of age groups\n",
    "# round percentage to 2 decimal points\n",
    "percentage_age_groups = round((count_age_group/count_unique_players) * 100,2)\n",
    "\n",
    "percentage_age_groups"
   ]
  },
  {
   "cell_type": "code",
   "execution_count": 23,
   "metadata": {},
   "outputs": [
    {
     "data": {
      "text/html": [
       "<style  type=\"text/css\" >\n",
       "</style><table id=\"T_31a6931c_56c0_11ea_b57c_d8f2ca49febb\" ><thead>    <tr>        <th class=\"blank level0\" ></th>        <th class=\"col_heading level0 col0\" >Total Count</th>        <th class=\"col_heading level0 col1\" >Percentage of Players</th>    </tr>    <tr>        <th class=\"index_name level0\" >Age Groups</th>        <th class=\"blank\" ></th>        <th class=\"blank\" ></th>    </tr></thead><tbody>\n",
       "                <tr>\n",
       "                        <th id=\"T_31a6931c_56c0_11ea_b57c_d8f2ca49febblevel0_row0\" class=\"row_heading level0 row0\" >>10</th>\n",
       "                        <td id=\"T_31a6931c_56c0_11ea_b57c_d8f2ca49febbrow0_col0\" class=\"data row0 col0\" >17</td>\n",
       "                        <td id=\"T_31a6931c_56c0_11ea_b57c_d8f2ca49febbrow0_col1\" class=\"data row0 col1\" >2.95%</td>\n",
       "            </tr>\n",
       "            <tr>\n",
       "                        <th id=\"T_31a6931c_56c0_11ea_b57c_d8f2ca49febblevel0_row1\" class=\"row_heading level0 row1\" >10-14</th>\n",
       "                        <td id=\"T_31a6931c_56c0_11ea_b57c_d8f2ca49febbrow1_col0\" class=\"data row1 col0\" >22</td>\n",
       "                        <td id=\"T_31a6931c_56c0_11ea_b57c_d8f2ca49febbrow1_col1\" class=\"data row1 col1\" >3.82%</td>\n",
       "            </tr>\n",
       "            <tr>\n",
       "                        <th id=\"T_31a6931c_56c0_11ea_b57c_d8f2ca49febblevel0_row2\" class=\"row_heading level0 row2\" >15-19</th>\n",
       "                        <td id=\"T_31a6931c_56c0_11ea_b57c_d8f2ca49febbrow2_col0\" class=\"data row2 col0\" >107</td>\n",
       "                        <td id=\"T_31a6931c_56c0_11ea_b57c_d8f2ca49febbrow2_col1\" class=\"data row2 col1\" >18.58%</td>\n",
       "            </tr>\n",
       "            <tr>\n",
       "                        <th id=\"T_31a6931c_56c0_11ea_b57c_d8f2ca49febblevel0_row3\" class=\"row_heading level0 row3\" >20-24</th>\n",
       "                        <td id=\"T_31a6931c_56c0_11ea_b57c_d8f2ca49febbrow3_col0\" class=\"data row3 col0\" >258</td>\n",
       "                        <td id=\"T_31a6931c_56c0_11ea_b57c_d8f2ca49febbrow3_col1\" class=\"data row3 col1\" >44.79%</td>\n",
       "            </tr>\n",
       "            <tr>\n",
       "                        <th id=\"T_31a6931c_56c0_11ea_b57c_d8f2ca49febblevel0_row4\" class=\"row_heading level0 row4\" >25-29</th>\n",
       "                        <td id=\"T_31a6931c_56c0_11ea_b57c_d8f2ca49febbrow4_col0\" class=\"data row4 col0\" >77</td>\n",
       "                        <td id=\"T_31a6931c_56c0_11ea_b57c_d8f2ca49febbrow4_col1\" class=\"data row4 col1\" >13.37%</td>\n",
       "            </tr>\n",
       "            <tr>\n",
       "                        <th id=\"T_31a6931c_56c0_11ea_b57c_d8f2ca49febblevel0_row5\" class=\"row_heading level0 row5\" >30-34</th>\n",
       "                        <td id=\"T_31a6931c_56c0_11ea_b57c_d8f2ca49febbrow5_col0\" class=\"data row5 col0\" >52</td>\n",
       "                        <td id=\"T_31a6931c_56c0_11ea_b57c_d8f2ca49febbrow5_col1\" class=\"data row5 col1\" >9.03%</td>\n",
       "            </tr>\n",
       "            <tr>\n",
       "                        <th id=\"T_31a6931c_56c0_11ea_b57c_d8f2ca49febblevel0_row6\" class=\"row_heading level0 row6\" >35-39</th>\n",
       "                        <td id=\"T_31a6931c_56c0_11ea_b57c_d8f2ca49febbrow6_col0\" class=\"data row6 col0\" >31</td>\n",
       "                        <td id=\"T_31a6931c_56c0_11ea_b57c_d8f2ca49febbrow6_col1\" class=\"data row6 col1\" >5.38%</td>\n",
       "            </tr>\n",
       "            <tr>\n",
       "                        <th id=\"T_31a6931c_56c0_11ea_b57c_d8f2ca49febblevel0_row7\" class=\"row_heading level0 row7\" >40+</th>\n",
       "                        <td id=\"T_31a6931c_56c0_11ea_b57c_d8f2ca49febbrow7_col0\" class=\"data row7 col0\" >12</td>\n",
       "                        <td id=\"T_31a6931c_56c0_11ea_b57c_d8f2ca49febbrow7_col1\" class=\"data row7 col1\" >2.08%</td>\n",
       "            </tr>\n",
       "    </tbody></table>"
      ],
      "text/plain": [
       "<pandas.io.formats.style.Styler at 0x1e0b44228c8>"
      ]
     },
     "execution_count": 23,
     "metadata": {},
     "output_type": "execute_result"
    }
   ],
   "source": [
    "# Summary table of age demographics\n",
    "# cleaner format ( adding percentage sign to Percentage of Players column)\n",
    "\n",
    "summary_table4 = pd.DataFrame(\n",
    "    {'Total Count': count_age_group,\n",
    "     'Percentage of Players': percentage_age_groups\n",
    "    }\n",
    ")\n",
    "\n",
    "clean_formated4 = summary_table4.style.format({'Percentage of Players':'{:.2f}%'})\n",
    "\n",
    "clean_formated4"
   ]
  },
  {
   "cell_type": "markdown",
   "metadata": {},
   "source": [
    "## Purchasing Analysis (Age)"
   ]
  },
  {
   "cell_type": "markdown",
   "metadata": {},
   "source": [
    "* Bin the purchase_data data frame by age\n",
    "\n",
    "\n",
    "* Run basic calculations to obtain purchase count, avg. purchase price, avg. purchase total per person etc. in the table below\n",
    "\n",
    "\n",
    "* Create a summary data frame to hold the results\n",
    "\n",
    "\n",
    "* Optional: give the displayed data cleaner formatting\n",
    "\n",
    "\n",
    "* Display the summary data frame"
   ]
  },
  {
   "cell_type": "code",
   "execution_count": 24,
   "metadata": {},
   "outputs": [
    {
     "data": {
      "text/plain": [
       "Age Groups\n",
       ">10       23\n",
       "10-14     28\n",
       "15-19    136\n",
       "20-24    365\n",
       "25-29    101\n",
       "30-34     73\n",
       "35-39     41\n",
       "40+       13\n",
       "Name: Purchase ID, dtype: int64"
      ]
     },
     "execution_count": 24,
     "metadata": {},
     "output_type": "execute_result"
    }
   ],
   "source": [
    "# Use same bins and labels as Age demographics\n",
    "# Use same grouped 'aged groups'\n",
    "# calculage Purchase count\n",
    "count_age_purchases = age_groups['Purchase ID'].count()\n",
    "\n",
    "count_age_purchases"
   ]
  },
  {
   "cell_type": "code",
   "execution_count": 25,
   "metadata": {},
   "outputs": [
    {
     "data": {
      "text/plain": [
       "Age Groups\n",
       ">10      3.35\n",
       "10-14    2.96\n",
       "15-19    3.04\n",
       "20-24    3.05\n",
       "25-29    2.90\n",
       "30-34    2.93\n",
       "35-39    3.60\n",
       "40+      2.94\n",
       "Name: Price, dtype: float64"
      ]
     },
     "execution_count": 25,
     "metadata": {},
     "output_type": "execute_result"
    }
   ],
   "source": [
    "# Calculate Average Purchase Price\n",
    "avg_age_group_pp = round((age_groups['Price'].mean()),2)\n",
    "\n",
    "avg_age_group_pp"
   ]
  },
  {
   "cell_type": "code",
   "execution_count": 26,
   "metadata": {},
   "outputs": [
    {
     "data": {
      "text/plain": [
       "Age Groups\n",
       ">10        77.13\n",
       "10-14      82.78\n",
       "15-19     412.89\n",
       "20-24    1114.06\n",
       "25-29     293.00\n",
       "30-34     214.00\n",
       "35-39     147.67\n",
       "40+        38.24\n",
       "Name: Price, dtype: float64"
      ]
     },
     "execution_count": 26,
     "metadata": {},
     "output_type": "execute_result"
    }
   ],
   "source": [
    "# Calculate Total Purchase Value\n",
    "total_age_group_pv = age_groups['Price'].sum()\n",
    "\n",
    "total_age_group_pv"
   ]
  },
  {
   "cell_type": "code",
   "execution_count": 27,
   "metadata": {},
   "outputs": [
    {
     "data": {
      "text/plain": [
       "Age Groups\n",
       ">10      4.54\n",
       "10-14    3.76\n",
       "15-19    3.86\n",
       "20-24    4.32\n",
       "25-29    3.81\n",
       "30-34    4.12\n",
       "35-39    4.76\n",
       "40+      3.19\n",
       "dtype: float64"
      ]
     },
     "execution_count": 27,
     "metadata": {},
     "output_type": "execute_result"
    }
   ],
   "source": [
    "# Avg Total Purchase Per Person\n",
    "avg_tp_pp = round((total_age_group_pv/count_age_group),2)\n",
    "avg_tp_pp"
   ]
  },
  {
   "cell_type": "code",
   "execution_count": 28,
   "metadata": {},
   "outputs": [
    {
     "data": {
      "text/html": [
       "<style  type=\"text/css\" >\n",
       "</style><table id=\"T_72b3e19e_56c0_11ea_b3ef_d8f2ca49febb\" ><thead>    <tr>        <th class=\"blank level0\" ></th>        <th class=\"col_heading level0 col0\" >Purchase Count</th>        <th class=\"col_heading level0 col1\" >Average Purchase Price</th>        <th class=\"col_heading level0 col2\" >Total Purchase Value</th>        <th class=\"col_heading level0 col3\" >Avg Total Purchase Per Person</th>    </tr>    <tr>        <th class=\"index_name level0\" >Age Groups</th>        <th class=\"blank\" ></th>        <th class=\"blank\" ></th>        <th class=\"blank\" ></th>        <th class=\"blank\" ></th>    </tr></thead><tbody>\n",
       "                <tr>\n",
       "                        <th id=\"T_72b3e19e_56c0_11ea_b3ef_d8f2ca49febblevel0_row0\" class=\"row_heading level0 row0\" >>10</th>\n",
       "                        <td id=\"T_72b3e19e_56c0_11ea_b3ef_d8f2ca49febbrow0_col0\" class=\"data row0 col0\" >23</td>\n",
       "                        <td id=\"T_72b3e19e_56c0_11ea_b3ef_d8f2ca49febbrow0_col1\" class=\"data row0 col1\" >$3.35</td>\n",
       "                        <td id=\"T_72b3e19e_56c0_11ea_b3ef_d8f2ca49febbrow0_col2\" class=\"data row0 col2\" >$77.13</td>\n",
       "                        <td id=\"T_72b3e19e_56c0_11ea_b3ef_d8f2ca49febbrow0_col3\" class=\"data row0 col3\" >$4.54</td>\n",
       "            </tr>\n",
       "            <tr>\n",
       "                        <th id=\"T_72b3e19e_56c0_11ea_b3ef_d8f2ca49febblevel0_row1\" class=\"row_heading level0 row1\" >10-14</th>\n",
       "                        <td id=\"T_72b3e19e_56c0_11ea_b3ef_d8f2ca49febbrow1_col0\" class=\"data row1 col0\" >28</td>\n",
       "                        <td id=\"T_72b3e19e_56c0_11ea_b3ef_d8f2ca49febbrow1_col1\" class=\"data row1 col1\" >$2.96</td>\n",
       "                        <td id=\"T_72b3e19e_56c0_11ea_b3ef_d8f2ca49febbrow1_col2\" class=\"data row1 col2\" >$82.78</td>\n",
       "                        <td id=\"T_72b3e19e_56c0_11ea_b3ef_d8f2ca49febbrow1_col3\" class=\"data row1 col3\" >$3.76</td>\n",
       "            </tr>\n",
       "            <tr>\n",
       "                        <th id=\"T_72b3e19e_56c0_11ea_b3ef_d8f2ca49febblevel0_row2\" class=\"row_heading level0 row2\" >15-19</th>\n",
       "                        <td id=\"T_72b3e19e_56c0_11ea_b3ef_d8f2ca49febbrow2_col0\" class=\"data row2 col0\" >136</td>\n",
       "                        <td id=\"T_72b3e19e_56c0_11ea_b3ef_d8f2ca49febbrow2_col1\" class=\"data row2 col1\" >$3.04</td>\n",
       "                        <td id=\"T_72b3e19e_56c0_11ea_b3ef_d8f2ca49febbrow2_col2\" class=\"data row2 col2\" >$412.89</td>\n",
       "                        <td id=\"T_72b3e19e_56c0_11ea_b3ef_d8f2ca49febbrow2_col3\" class=\"data row2 col3\" >$3.86</td>\n",
       "            </tr>\n",
       "            <tr>\n",
       "                        <th id=\"T_72b3e19e_56c0_11ea_b3ef_d8f2ca49febblevel0_row3\" class=\"row_heading level0 row3\" >20-24</th>\n",
       "                        <td id=\"T_72b3e19e_56c0_11ea_b3ef_d8f2ca49febbrow3_col0\" class=\"data row3 col0\" >365</td>\n",
       "                        <td id=\"T_72b3e19e_56c0_11ea_b3ef_d8f2ca49febbrow3_col1\" class=\"data row3 col1\" >$3.05</td>\n",
       "                        <td id=\"T_72b3e19e_56c0_11ea_b3ef_d8f2ca49febbrow3_col2\" class=\"data row3 col2\" >$1114.06</td>\n",
       "                        <td id=\"T_72b3e19e_56c0_11ea_b3ef_d8f2ca49febbrow3_col3\" class=\"data row3 col3\" >$4.32</td>\n",
       "            </tr>\n",
       "            <tr>\n",
       "                        <th id=\"T_72b3e19e_56c0_11ea_b3ef_d8f2ca49febblevel0_row4\" class=\"row_heading level0 row4\" >25-29</th>\n",
       "                        <td id=\"T_72b3e19e_56c0_11ea_b3ef_d8f2ca49febbrow4_col0\" class=\"data row4 col0\" >101</td>\n",
       "                        <td id=\"T_72b3e19e_56c0_11ea_b3ef_d8f2ca49febbrow4_col1\" class=\"data row4 col1\" >$2.90</td>\n",
       "                        <td id=\"T_72b3e19e_56c0_11ea_b3ef_d8f2ca49febbrow4_col2\" class=\"data row4 col2\" >$293.00</td>\n",
       "                        <td id=\"T_72b3e19e_56c0_11ea_b3ef_d8f2ca49febbrow4_col3\" class=\"data row4 col3\" >$3.81</td>\n",
       "            </tr>\n",
       "            <tr>\n",
       "                        <th id=\"T_72b3e19e_56c0_11ea_b3ef_d8f2ca49febblevel0_row5\" class=\"row_heading level0 row5\" >30-34</th>\n",
       "                        <td id=\"T_72b3e19e_56c0_11ea_b3ef_d8f2ca49febbrow5_col0\" class=\"data row5 col0\" >73</td>\n",
       "                        <td id=\"T_72b3e19e_56c0_11ea_b3ef_d8f2ca49febbrow5_col1\" class=\"data row5 col1\" >$2.93</td>\n",
       "                        <td id=\"T_72b3e19e_56c0_11ea_b3ef_d8f2ca49febbrow5_col2\" class=\"data row5 col2\" >$214.00</td>\n",
       "                        <td id=\"T_72b3e19e_56c0_11ea_b3ef_d8f2ca49febbrow5_col3\" class=\"data row5 col3\" >$4.12</td>\n",
       "            </tr>\n",
       "            <tr>\n",
       "                        <th id=\"T_72b3e19e_56c0_11ea_b3ef_d8f2ca49febblevel0_row6\" class=\"row_heading level0 row6\" >35-39</th>\n",
       "                        <td id=\"T_72b3e19e_56c0_11ea_b3ef_d8f2ca49febbrow6_col0\" class=\"data row6 col0\" >41</td>\n",
       "                        <td id=\"T_72b3e19e_56c0_11ea_b3ef_d8f2ca49febbrow6_col1\" class=\"data row6 col1\" >$3.60</td>\n",
       "                        <td id=\"T_72b3e19e_56c0_11ea_b3ef_d8f2ca49febbrow6_col2\" class=\"data row6 col2\" >$147.67</td>\n",
       "                        <td id=\"T_72b3e19e_56c0_11ea_b3ef_d8f2ca49febbrow6_col3\" class=\"data row6 col3\" >$4.76</td>\n",
       "            </tr>\n",
       "            <tr>\n",
       "                        <th id=\"T_72b3e19e_56c0_11ea_b3ef_d8f2ca49febblevel0_row7\" class=\"row_heading level0 row7\" >40+</th>\n",
       "                        <td id=\"T_72b3e19e_56c0_11ea_b3ef_d8f2ca49febbrow7_col0\" class=\"data row7 col0\" >13</td>\n",
       "                        <td id=\"T_72b3e19e_56c0_11ea_b3ef_d8f2ca49febbrow7_col1\" class=\"data row7 col1\" >$2.94</td>\n",
       "                        <td id=\"T_72b3e19e_56c0_11ea_b3ef_d8f2ca49febbrow7_col2\" class=\"data row7 col2\" >$38.24</td>\n",
       "                        <td id=\"T_72b3e19e_56c0_11ea_b3ef_d8f2ca49febbrow7_col3\" class=\"data row7 col3\" >$3.19</td>\n",
       "            </tr>\n",
       "    </tbody></table>"
      ],
      "text/plain": [
       "<pandas.io.formats.style.Styler at 0x1e0b4c99e88>"
      ]
     },
     "execution_count": 28,
     "metadata": {},
     "output_type": "execute_result"
    }
   ],
   "source": [
    "# Summary Table of purchasing analysis (age)\n",
    "# cleaner formating (add $ sign to columns that represent currency)\n",
    "\n",
    "summary_table5 = pd.DataFrame(\n",
    "    {'Purchase Count': count_age_purchases,\n",
    "     'Average Purchase Price': avg_age_group_pp,\n",
    "     'Total Purchase Value': total_age_group_pv,\n",
    "     'Avg Total Purchase Per Person': avg_tp_pp\n",
    "    }\n",
    ")\n",
    "\n",
    "clean_formated5 = summary_table5.style.format({'Average Purchase Price':'${:.2f}', 'Total Purchase Value':'${:.2f}',\n",
    "                                             'Avg Total Purchase Per Person':'${:.2f}'})\n",
    "\n",
    "clean_formated5"
   ]
  },
  {
   "cell_type": "markdown",
   "metadata": {},
   "source": [
    "## Top Spenders"
   ]
  },
  {
   "cell_type": "markdown",
   "metadata": {},
   "source": [
    "* Run basic calculations to obtain the results in the table below\n",
    "\n",
    "\n",
    "* Create a summary data frame to hold the results\n",
    "\n",
    "\n",
    "* Sort the total purchase value column in descending order\n",
    "\n",
    "\n",
    "* Optional: give the displayed data cleaner formatting\n",
    "\n",
    "\n",
    "* Display a preview of the summary data frame\n",
    "\n"
   ]
  },
  {
   "cell_type": "code",
   "execution_count": 29,
   "metadata": {},
   "outputs": [
    {
     "data": {
      "text/plain": [
       "SN\n",
       "Adairialis76    1\n",
       "Adastirin33     1\n",
       "Aeda94          1\n",
       "Aela59          1\n",
       "Aelaria33       1\n",
       "Aelastirin39    2\n",
       "Aelidru27       1\n",
       "Aelin32         3\n",
       "Aelly27         2\n",
       "Aellynun67      1\n",
       "Name: Purchase ID, dtype: int64"
      ]
     },
     "execution_count": 29,
     "metadata": {},
     "output_type": "execute_result"
    }
   ],
   "source": [
    "# Top Spender\n",
    "# Group by unique SN\n",
    "# Count of purchases by SN\n",
    "sn_grouped = purchase_data.groupby('SN')\n",
    "\n",
    "count_sn_grouped = sn_grouped['Purchase ID'].count()\n",
    "count_sn_grouped.head(10)"
   ]
  },
  {
   "cell_type": "code",
   "execution_count": 30,
   "metadata": {},
   "outputs": [
    {
     "data": {
      "text/plain": [
       "SN\n",
       "Adairialis76    2.28\n",
       "Adastirin33     4.48\n",
       "Aeda94          4.91\n",
       "Aela59          4.32\n",
       "Aelaria33       1.79\n",
       "Aelastirin39    3.64\n",
       "Aelidru27       1.09\n",
       "Aelin32         2.99\n",
       "Aelly27         3.39\n",
       "Aellynun67      3.74\n",
       "Name: Price, dtype: float64"
      ]
     },
     "execution_count": 30,
     "metadata": {},
     "output_type": "execute_result"
    }
   ],
   "source": [
    "# Average Purchase Price by SN\n",
    "avg_pp_spender = round((sn_grouped['Price'].mean()),2)\n",
    "avg_pp_spender.head(10)"
   ]
  },
  {
   "cell_type": "code",
   "execution_count": 31,
   "metadata": {},
   "outputs": [
    {
     "data": {
      "text/plain": [
       "SN\n",
       "Adairialis76    2.28\n",
       "Adastirin33     4.48\n",
       "Aeda94          4.91\n",
       "Aela59          4.32\n",
       "Aelaria33       1.79\n",
       "Aelastirin39    7.29\n",
       "Aelidru27       1.09\n",
       "Aelin32         8.98\n",
       "Aelly27         6.79\n",
       "Aellynun67      3.74\n",
       "Name: Price, dtype: float64"
      ]
     },
     "execution_count": 31,
     "metadata": {},
     "output_type": "execute_result"
    }
   ],
   "source": [
    "# Total Purchase Value\n",
    "total_pv_spender = sn_grouped['Price'].sum()\n",
    "total_pv_spender.head(10)"
   ]
  },
  {
   "cell_type": "code",
   "execution_count": 32,
   "metadata": {},
   "outputs": [
    {
     "data": {
      "text/html": [
       "<style  type=\"text/css\" >\n",
       "</style><table id=\"T_a9f63046_56c0_11ea_923f_d8f2ca49febb\" ><thead>    <tr>        <th class=\"blank level0\" ></th>        <th class=\"col_heading level0 col0\" >Purchase Count</th>        <th class=\"col_heading level0 col1\" >Average Purchase Price</th>        <th class=\"col_heading level0 col2\" >Total Purchase Value</th>    </tr>    <tr>        <th class=\"index_name level0\" >SN</th>        <th class=\"blank\" ></th>        <th class=\"blank\" ></th>        <th class=\"blank\" ></th>    </tr></thead><tbody>\n",
       "                <tr>\n",
       "                        <th id=\"T_a9f63046_56c0_11ea_923f_d8f2ca49febblevel0_row0\" class=\"row_heading level0 row0\" >Lisosia93</th>\n",
       "                        <td id=\"T_a9f63046_56c0_11ea_923f_d8f2ca49febbrow0_col0\" class=\"data row0 col0\" >5</td>\n",
       "                        <td id=\"T_a9f63046_56c0_11ea_923f_d8f2ca49febbrow0_col1\" class=\"data row0 col1\" >$3.79</td>\n",
       "                        <td id=\"T_a9f63046_56c0_11ea_923f_d8f2ca49febbrow0_col2\" class=\"data row0 col2\" >$18.96</td>\n",
       "            </tr>\n",
       "            <tr>\n",
       "                        <th id=\"T_a9f63046_56c0_11ea_923f_d8f2ca49febblevel0_row1\" class=\"row_heading level0 row1\" >Idastidru52</th>\n",
       "                        <td id=\"T_a9f63046_56c0_11ea_923f_d8f2ca49febbrow1_col0\" class=\"data row1 col0\" >4</td>\n",
       "                        <td id=\"T_a9f63046_56c0_11ea_923f_d8f2ca49febbrow1_col1\" class=\"data row1 col1\" >$3.86</td>\n",
       "                        <td id=\"T_a9f63046_56c0_11ea_923f_d8f2ca49febbrow1_col2\" class=\"data row1 col2\" >$15.45</td>\n",
       "            </tr>\n",
       "            <tr>\n",
       "                        <th id=\"T_a9f63046_56c0_11ea_923f_d8f2ca49febblevel0_row2\" class=\"row_heading level0 row2\" >Chamjask73</th>\n",
       "                        <td id=\"T_a9f63046_56c0_11ea_923f_d8f2ca49febbrow2_col0\" class=\"data row2 col0\" >3</td>\n",
       "                        <td id=\"T_a9f63046_56c0_11ea_923f_d8f2ca49febbrow2_col1\" class=\"data row2 col1\" >$4.61</td>\n",
       "                        <td id=\"T_a9f63046_56c0_11ea_923f_d8f2ca49febbrow2_col2\" class=\"data row2 col2\" >$13.83</td>\n",
       "            </tr>\n",
       "            <tr>\n",
       "                        <th id=\"T_a9f63046_56c0_11ea_923f_d8f2ca49febblevel0_row3\" class=\"row_heading level0 row3\" >Iral74</th>\n",
       "                        <td id=\"T_a9f63046_56c0_11ea_923f_d8f2ca49febbrow3_col0\" class=\"data row3 col0\" >4</td>\n",
       "                        <td id=\"T_a9f63046_56c0_11ea_923f_d8f2ca49febbrow3_col1\" class=\"data row3 col1\" >$3.40</td>\n",
       "                        <td id=\"T_a9f63046_56c0_11ea_923f_d8f2ca49febbrow3_col2\" class=\"data row3 col2\" >$13.62</td>\n",
       "            </tr>\n",
       "            <tr>\n",
       "                        <th id=\"T_a9f63046_56c0_11ea_923f_d8f2ca49febblevel0_row4\" class=\"row_heading level0 row4\" >Iskadarya95</th>\n",
       "                        <td id=\"T_a9f63046_56c0_11ea_923f_d8f2ca49febbrow4_col0\" class=\"data row4 col0\" >3</td>\n",
       "                        <td id=\"T_a9f63046_56c0_11ea_923f_d8f2ca49febbrow4_col1\" class=\"data row4 col1\" >$4.37</td>\n",
       "                        <td id=\"T_a9f63046_56c0_11ea_923f_d8f2ca49febbrow4_col2\" class=\"data row4 col2\" >$13.10</td>\n",
       "            </tr>\n",
       "    </tbody></table>"
      ],
      "text/plain": [
       "<pandas.io.formats.style.Styler at 0x1e0b4cb6f48>"
      ]
     },
     "execution_count": 32,
     "metadata": {},
     "output_type": "execute_result"
    }
   ],
   "source": [
    "# Summary Table\n",
    "# Total Purchase Value in Descending order\n",
    "# cleaner formatting (place $ on columns that have currency values)\n",
    "\n",
    "summary_table6 = pd.DataFrame(\n",
    "    {'Purchase Count': count_sn_grouped,\n",
    "     'Average Purchase Price': avg_pp_spender,\n",
    "     'Total Purchase Value': total_pv_spender\n",
    "    }\n",
    ")\n",
    "\n",
    "\n",
    "sort_tpv = summary_table6.sort_values(['Total Purchase Value'], ascending = False).head()\n",
    "\n",
    "clean_formated6 = sort_tpv.style.format({'Average Purchase Price':'${:.2f}', 'Total Purchase Value':'${:.2f}'})\n",
    "\n",
    "clean_formated6"
   ]
  },
  {
   "cell_type": "markdown",
   "metadata": {},
   "source": [
    "## Most Popular Items"
   ]
  },
  {
   "cell_type": "markdown",
   "metadata": {},
   "source": [
    "* Retrieve the Item ID, Item Name, and Item Price columns\n",
    "\n",
    "\n",
    "* Group by Item ID and Item Name. Perform calculations to obtain purchase count, item price, and total purchase value\n",
    "\n",
    "\n",
    "* Create a summary data frame to hold the results\n",
    "\n",
    "\n",
    "* Sort the purchase count column in descending order\n",
    "\n",
    "\n",
    "* Optional: give the displayed data cleaner formatting\n",
    "\n",
    "\n",
    "* Display a preview of the summary data frame\n",
    "\n"
   ]
  },
  {
   "cell_type": "code",
   "execution_count": 33,
   "metadata": {},
   "outputs": [
    {
     "data": {
      "text/plain": [
       "Item ID  Item Name                        \n",
       "0        Splinter                             4\n",
       "1        Crucifer                             3\n",
       "2        Verdict                              6\n",
       "3        Phantomlight                         6\n",
       "4        Bloodlord's Fetish                   5\n",
       "5        Putrid Fan                           4\n",
       "6        Rusty Skull                          2\n",
       "7        Thorn, Satchel of Dark Souls         7\n",
       "8        Purgatory, Gem of Regret             3\n",
       "9        Thorn, Conqueror of the Corrupted    4\n",
       "Name: Purchase ID, dtype: int64"
      ]
     },
     "execution_count": 33,
     "metadata": {},
     "output_type": "execute_result"
    }
   ],
   "source": [
    "# Most Popular Items\n",
    "# Group by Item ID\n",
    "# Count of purchases by Item ID\n",
    "item_grouped = purchase_data.groupby(['Item ID','Item Name'])\n",
    "\n",
    "#hold price of item value\n",
    "Item_price = purchase_data['Price']\n",
    "\n",
    "count_item_grouped = item_grouped['Purchase ID'].count()\n",
    "count_item_grouped.head(10)"
   ]
  },
  {
   "cell_type": "code",
   "execution_count": 34,
   "metadata": {},
   "outputs": [
    {
     "data": {
      "text/plain": [
       "Item ID  Item Name                        \n",
       "0        Splinter                              5.12\n",
       "1        Crucifer                              9.78\n",
       "2        Verdict                              14.88\n",
       "3        Phantomlight                         14.94\n",
       "4        Bloodlord's Fetish                    8.50\n",
       "5        Putrid Fan                           16.32\n",
       "6        Rusty Skull                           7.40\n",
       "7        Thorn, Satchel of Dark Souls          9.31\n",
       "8        Purgatory, Gem of Regret             11.79\n",
       "9        Thorn, Conqueror of the Corrupted    10.92\n",
       "Name: Price, dtype: float64"
      ]
     },
     "execution_count": 34,
     "metadata": {},
     "output_type": "execute_result"
    }
   ],
   "source": [
    "# Total Purchase Value by Item\n",
    "total_pv_item = item_grouped['Price'].sum()\n",
    "total_pv_item.head(10)"
   ]
  },
  {
   "cell_type": "code",
   "execution_count": 35,
   "metadata": {},
   "outputs": [
    {
     "data": {
      "text/html": [
       "<style  type=\"text/css\" >\n",
       "</style><table id=\"T_d43619fa_56c0_11ea_bebc_d8f2ca49febb\" ><thead>    <tr>        <th class=\"blank\" ></th>        <th class=\"blank level0\" ></th>        <th class=\"col_heading level0 col0\" >Purchase Count</th>        <th class=\"col_heading level0 col1\" >Item Price</th>        <th class=\"col_heading level0 col2\" >Total Purchase Value</th>    </tr>    <tr>        <th class=\"index_name level0\" >Item ID</th>        <th class=\"index_name level1\" >Item Name</th>        <th class=\"blank\" ></th>        <th class=\"blank\" ></th>        <th class=\"blank\" ></th>    </tr></thead><tbody>\n",
       "                <tr>\n",
       "                        <th id=\"T_d43619fa_56c0_11ea_bebc_d8f2ca49febblevel0_row0\" class=\"row_heading level0 row0\" >178</th>\n",
       "                        <th id=\"T_d43619fa_56c0_11ea_bebc_d8f2ca49febblevel1_row0\" class=\"row_heading level1 row0\" >Oathbreaker, Last Hope of the Breaking Storm</th>\n",
       "                        <td id=\"T_d43619fa_56c0_11ea_bebc_d8f2ca49febbrow0_col0\" class=\"data row0 col0\" >12</td>\n",
       "                        <td id=\"T_d43619fa_56c0_11ea_bebc_d8f2ca49febbrow0_col1\" class=\"data row0 col1\" >$4.23</td>\n",
       "                        <td id=\"T_d43619fa_56c0_11ea_bebc_d8f2ca49febbrow0_col2\" class=\"data row0 col2\" >$50.76</td>\n",
       "            </tr>\n",
       "            <tr>\n",
       "                        <th id=\"T_d43619fa_56c0_11ea_bebc_d8f2ca49febblevel0_row1\" class=\"row_heading level0 row1\" >145</th>\n",
       "                        <th id=\"T_d43619fa_56c0_11ea_bebc_d8f2ca49febblevel1_row1\" class=\"row_heading level1 row1\" >Fiery Glass Crusader</th>\n",
       "                        <td id=\"T_d43619fa_56c0_11ea_bebc_d8f2ca49febbrow1_col0\" class=\"data row1 col0\" >9</td>\n",
       "                        <td id=\"T_d43619fa_56c0_11ea_bebc_d8f2ca49febbrow1_col1\" class=\"data row1 col1\" >$4.58</td>\n",
       "                        <td id=\"T_d43619fa_56c0_11ea_bebc_d8f2ca49febbrow1_col2\" class=\"data row1 col2\" >$41.22</td>\n",
       "            </tr>\n",
       "            <tr>\n",
       "                        <th id=\"T_d43619fa_56c0_11ea_bebc_d8f2ca49febblevel0_row2\" class=\"row_heading level0 row2\" >108</th>\n",
       "                        <th id=\"T_d43619fa_56c0_11ea_bebc_d8f2ca49febblevel1_row2\" class=\"row_heading level1 row2\" >Extraction, Quickblade Of Trembling Hands</th>\n",
       "                        <td id=\"T_d43619fa_56c0_11ea_bebc_d8f2ca49febbrow2_col0\" class=\"data row2 col0\" >9</td>\n",
       "                        <td id=\"T_d43619fa_56c0_11ea_bebc_d8f2ca49febbrow2_col1\" class=\"data row2 col1\" >$3.53</td>\n",
       "                        <td id=\"T_d43619fa_56c0_11ea_bebc_d8f2ca49febbrow2_col2\" class=\"data row2 col2\" >$31.77</td>\n",
       "            </tr>\n",
       "            <tr>\n",
       "                        <th id=\"T_d43619fa_56c0_11ea_bebc_d8f2ca49febblevel0_row3\" class=\"row_heading level0 row3\" >82</th>\n",
       "                        <th id=\"T_d43619fa_56c0_11ea_bebc_d8f2ca49febblevel1_row3\" class=\"row_heading level1 row3\" >Nirvana</th>\n",
       "                        <td id=\"T_d43619fa_56c0_11ea_bebc_d8f2ca49febbrow3_col0\" class=\"data row3 col0\" >9</td>\n",
       "                        <td id=\"T_d43619fa_56c0_11ea_bebc_d8f2ca49febbrow3_col1\" class=\"data row3 col1\" >$4.90</td>\n",
       "                        <td id=\"T_d43619fa_56c0_11ea_bebc_d8f2ca49febbrow3_col2\" class=\"data row3 col2\" >$44.10</td>\n",
       "            </tr>\n",
       "            <tr>\n",
       "                        <th id=\"T_d43619fa_56c0_11ea_bebc_d8f2ca49febblevel0_row4\" class=\"row_heading level0 row4\" >19</th>\n",
       "                        <th id=\"T_d43619fa_56c0_11ea_bebc_d8f2ca49febblevel1_row4\" class=\"row_heading level1 row4\" >Pursuit, Cudgel of Necromancy</th>\n",
       "                        <td id=\"T_d43619fa_56c0_11ea_bebc_d8f2ca49febbrow4_col0\" class=\"data row4 col0\" >8</td>\n",
       "                        <td id=\"T_d43619fa_56c0_11ea_bebc_d8f2ca49febbrow4_col1\" class=\"data row4 col1\" >$1.02</td>\n",
       "                        <td id=\"T_d43619fa_56c0_11ea_bebc_d8f2ca49febbrow4_col2\" class=\"data row4 col2\" >$8.16</td>\n",
       "            </tr>\n",
       "    </tbody></table>"
      ],
      "text/plain": [
       "<pandas.io.formats.style.Styler at 0x1e0b4c96b48>"
      ]
     },
     "execution_count": 35,
     "metadata": {},
     "output_type": "execute_result"
    }
   ],
   "source": [
    "# Summary table\n",
    "# sort Purchase count in descending order\n",
    "# cleaner formating(add $ to currency columns)\n",
    "\n",
    "summary_table7 = pd.DataFrame(\n",
    "    {'Purchase Count': count_item_grouped,\n",
    "     'Item Price': (total_pv_item/count_item_grouped),\n",
    "     'Total Purchase Value': total_pv_item\n",
    "    }\n",
    ")\n",
    "\n",
    "sorted_mpt = summary_table7.sort_values(['Purchase Count'], ascending = False).head()\n",
    "\n",
    "clean_formated7 = sorted_mpt.style.format({'Item Price':'${:.2f}', 'Total Purchase Value':'${:.2f}'})\n",
    "clean_formated7"
   ]
  },
  {
   "cell_type": "markdown",
   "metadata": {},
   "source": [
    "## Most Profitable Items"
   ]
  },
  {
   "cell_type": "markdown",
   "metadata": {},
   "source": [
    "* Sort the above table by total purchase value in descending order\n",
    "\n",
    "\n",
    "* Optional: give the displayed data cleaner formatting\n",
    "\n",
    "\n",
    "* Display a preview of the data frame\n",
    "\n"
   ]
  },
  {
   "cell_type": "code",
   "execution_count": 36,
   "metadata": {
    "scrolled": true
   },
   "outputs": [
    {
     "data": {
      "text/html": [
       "<style  type=\"text/css\" >\n",
       "</style><table id=\"T_e5ed4680_56c0_11ea_9b0f_d8f2ca49febb\" ><thead>    <tr>        <th class=\"blank\" ></th>        <th class=\"blank level0\" ></th>        <th class=\"col_heading level0 col0\" >Purchase Count</th>        <th class=\"col_heading level0 col1\" >Item Price</th>        <th class=\"col_heading level0 col2\" >Total Purchase Value</th>    </tr>    <tr>        <th class=\"index_name level0\" >Item ID</th>        <th class=\"index_name level1\" >Item Name</th>        <th class=\"blank\" ></th>        <th class=\"blank\" ></th>        <th class=\"blank\" ></th>    </tr></thead><tbody>\n",
       "                <tr>\n",
       "                        <th id=\"T_e5ed4680_56c0_11ea_9b0f_d8f2ca49febblevel0_row0\" class=\"row_heading level0 row0\" >178</th>\n",
       "                        <th id=\"T_e5ed4680_56c0_11ea_9b0f_d8f2ca49febblevel1_row0\" class=\"row_heading level1 row0\" >Oathbreaker, Last Hope of the Breaking Storm</th>\n",
       "                        <td id=\"T_e5ed4680_56c0_11ea_9b0f_d8f2ca49febbrow0_col0\" class=\"data row0 col0\" >12</td>\n",
       "                        <td id=\"T_e5ed4680_56c0_11ea_9b0f_d8f2ca49febbrow0_col1\" class=\"data row0 col1\" >$4.23</td>\n",
       "                        <td id=\"T_e5ed4680_56c0_11ea_9b0f_d8f2ca49febbrow0_col2\" class=\"data row0 col2\" >$50.76</td>\n",
       "            </tr>\n",
       "            <tr>\n",
       "                        <th id=\"T_e5ed4680_56c0_11ea_9b0f_d8f2ca49febblevel0_row1\" class=\"row_heading level0 row1\" >82</th>\n",
       "                        <th id=\"T_e5ed4680_56c0_11ea_9b0f_d8f2ca49febblevel1_row1\" class=\"row_heading level1 row1\" >Nirvana</th>\n",
       "                        <td id=\"T_e5ed4680_56c0_11ea_9b0f_d8f2ca49febbrow1_col0\" class=\"data row1 col0\" >9</td>\n",
       "                        <td id=\"T_e5ed4680_56c0_11ea_9b0f_d8f2ca49febbrow1_col1\" class=\"data row1 col1\" >$4.90</td>\n",
       "                        <td id=\"T_e5ed4680_56c0_11ea_9b0f_d8f2ca49febbrow1_col2\" class=\"data row1 col2\" >$44.10</td>\n",
       "            </tr>\n",
       "            <tr>\n",
       "                        <th id=\"T_e5ed4680_56c0_11ea_9b0f_d8f2ca49febblevel0_row2\" class=\"row_heading level0 row2\" >145</th>\n",
       "                        <th id=\"T_e5ed4680_56c0_11ea_9b0f_d8f2ca49febblevel1_row2\" class=\"row_heading level1 row2\" >Fiery Glass Crusader</th>\n",
       "                        <td id=\"T_e5ed4680_56c0_11ea_9b0f_d8f2ca49febbrow2_col0\" class=\"data row2 col0\" >9</td>\n",
       "                        <td id=\"T_e5ed4680_56c0_11ea_9b0f_d8f2ca49febbrow2_col1\" class=\"data row2 col1\" >$4.58</td>\n",
       "                        <td id=\"T_e5ed4680_56c0_11ea_9b0f_d8f2ca49febbrow2_col2\" class=\"data row2 col2\" >$41.22</td>\n",
       "            </tr>\n",
       "            <tr>\n",
       "                        <th id=\"T_e5ed4680_56c0_11ea_9b0f_d8f2ca49febblevel0_row3\" class=\"row_heading level0 row3\" >92</th>\n",
       "                        <th id=\"T_e5ed4680_56c0_11ea_9b0f_d8f2ca49febblevel1_row3\" class=\"row_heading level1 row3\" >Final Critic</th>\n",
       "                        <td id=\"T_e5ed4680_56c0_11ea_9b0f_d8f2ca49febbrow3_col0\" class=\"data row3 col0\" >8</td>\n",
       "                        <td id=\"T_e5ed4680_56c0_11ea_9b0f_d8f2ca49febbrow3_col1\" class=\"data row3 col1\" >$4.88</td>\n",
       "                        <td id=\"T_e5ed4680_56c0_11ea_9b0f_d8f2ca49febbrow3_col2\" class=\"data row3 col2\" >$39.04</td>\n",
       "            </tr>\n",
       "            <tr>\n",
       "                        <th id=\"T_e5ed4680_56c0_11ea_9b0f_d8f2ca49febblevel0_row4\" class=\"row_heading level0 row4\" >103</th>\n",
       "                        <th id=\"T_e5ed4680_56c0_11ea_9b0f_d8f2ca49febblevel1_row4\" class=\"row_heading level1 row4\" >Singed Scalpel</th>\n",
       "                        <td id=\"T_e5ed4680_56c0_11ea_9b0f_d8f2ca49febbrow4_col0\" class=\"data row4 col0\" >8</td>\n",
       "                        <td id=\"T_e5ed4680_56c0_11ea_9b0f_d8f2ca49febbrow4_col1\" class=\"data row4 col1\" >$4.35</td>\n",
       "                        <td id=\"T_e5ed4680_56c0_11ea_9b0f_d8f2ca49febbrow4_col2\" class=\"data row4 col2\" >$34.80</td>\n",
       "            </tr>\n",
       "    </tbody></table>"
      ],
      "text/plain": [
       "<pandas.io.formats.style.Styler at 0x1e0b4c84208>"
      ]
     },
     "execution_count": 36,
     "metadata": {},
     "output_type": "execute_result"
    }
   ],
   "source": [
    "# sort previous table by Total Purchase Value instead\n",
    "# cleaner format(add $ sign to currency columns)\n",
    "\n",
    "sorted_mpi = summary_table7.sort_values(['Total Purchase Value'], ascending = False).head()\n",
    "\n",
    "clean_formated8 = sorted_mpi.style.format({'Item Price':'${:.2f}', 'Total Purchase Value':'${:.2f}'})\n",
    "\n",
    "clean_formated8"
   ]
  },
  {
   "cell_type": "code",
   "execution_count": null,
   "metadata": {},
   "outputs": [],
   "source": []
  }
 ],
 "metadata": {
  "anaconda-cloud": {},
  "kernel_info": {
   "name": "python3"
  },
  "kernelspec": {
   "display_name": "Python 3",
   "language": "python",
   "name": "python3"
  },
  "language_info": {
   "codemirror_mode": {
    "name": "ipython",
    "version": 3
   },
   "file_extension": ".py",
   "mimetype": "text/x-python",
   "name": "python",
   "nbconvert_exporter": "python",
   "pygments_lexer": "ipython3",
   "version": "3.7.4"
  },
  "latex_envs": {
   "LaTeX_envs_menu_present": true,
   "autoclose": false,
   "autocomplete": true,
   "bibliofile": "biblio.bib",
   "cite_by": "apalike",
   "current_citInitial": 1,
   "eqLabelWithNumbers": true,
   "eqNumInitial": 1,
   "hotkeys": {
    "equation": "Ctrl-E",
    "itemize": "Ctrl-I"
   },
   "labels_anchors": false,
   "latex_user_defs": false,
   "report_style_numbering": false,
   "user_envs_cfg": false
  },
  "nteract": {
   "version": "0.2.0"
  }
 },
 "nbformat": 4,
 "nbformat_minor": 2
}
